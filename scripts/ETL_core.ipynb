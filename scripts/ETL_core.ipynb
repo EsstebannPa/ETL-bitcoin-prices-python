{
 "cells": [
  {
   "cell_type": "markdown",
   "id": "2d149e8b-edf5-406e-b6b7-00fbe1165a50",
   "metadata": {},
   "source": [
    "# ETL para el histórico de precios del Bitcoin (últimos 30 días)"
   ]
  },
  {
   "cell_type": "markdown",
   "id": "f3ac1675-52fc-4a7b-986f-fa0039082b3c",
   "metadata": {},
   "source": [
    "## Proceso de **E**xtracción:"
   ]
  },
  {
   "cell_type": "code",
   "execution_count": null,
   "id": "7c1f1346-fdfd-4b9c-9098-5a55c35d674b",
   "metadata": {},
   "outputs": [],
   "source": [
    "#Importación de librerías y proceso de Extracción de datos (API pública de CoinGecko).\n",
    "\n",
    "import requests \n",
    "import pandas as pd\n",
    "import matplotlib.pyplot as plt\n",
    "from sqlalchemy import create_engine\n",
    "\n",
    "url = \"https://api.coingecko.com/api/v3/coins/bitcoin/market_chart\"\n",
    "params = {\n",
    "    \"vs_currency\": \"usd\",\n",
    "    \"days\": \"30\",\n",
    "    \"interval\": \"daily\"\n",
    "}\n",
    "\n",
    "response = requests.get(url, params=params)\n",
    "data = response.json()\n",
    "\n",
    "print(response)\n",
    "print(type(data))"
   ]
  },
  {
   "cell_type": "markdown",
   "id": "8ab6ebd9-7388-483f-9df6-c228ca549de4",
   "metadata": {},
   "source": [
    "## Proceso de **T**ransformación:"
   ]
  },
  {
   "cell_type": "code",
   "execution_count": null,
   "id": "72c6e36c-7f02-497b-82cf-9bffed94ca6e",
   "metadata": {},
   "outputs": [],
   "source": [
    "#Proceso de Transformación y Limpieza de datos.\n",
    "\n",
    "#Transformación de datos desde el tipo Diccionario a DatFrame\n",
    "df = pd.DataFrame(data['prices'], columns=['timestamp', 'price'])\n",
    "df['timestamp'] = pd.to_datetime(df['timestamp'], unit=\"ms\")\n",
    "df['price'] = df['price'].round(2)\n",
    "df['daily_change'] = df['price'].pct_change().round(4)\n",
    "\n",
    "#Eliminación de datos nulos en columnas; y duplicados en la columna de fecha (\"timestamp\")\n",
    "df.dropna(inplace=True)\n",
    "df.drop_duplicates(subset=['timestamp'], inplace=True)\n",
    "\n",
    "print(df.info())\n",
    "print(df)"
   ]
  },
  {
   "cell_type": "markdown",
   "id": "2d5f9ab2-da23-4268-b21a-233c0e2979af",
   "metadata": {},
   "source": [
    "## Visualización preliminar:"
   ]
  },
  {
   "cell_type": "code",
   "execution_count": null,
   "id": "0ebf5e87-63f1-42ad-9106-3d4c7f52bb65",
   "metadata": {},
   "outputs": [],
   "source": [
    "#Visualización parcial de datos con libería Matplotlib y su modulo PyPlot\n",
    "\n",
    "plt.figure(figsize=(10,4))\n",
    "plt.plot(df['timestamp'], df['price'], color=\"orange\")\n",
    "plt.title(\"Bitcoin Price - Last 30 days\")\n",
    "plt.ylabel(\"Price in USD\")\n",
    "plt.xlabel(\"Date\")\n",
    "plt.xticks(rotation=50)\n",
    "plt.tight_layout()\n",
    "plt.savefig(\"../visuals/bitcoin_graphic.jpg\")\n",
    "plt.show()"
   ]
  },
  {
   "cell_type": "markdown",
   "id": "20c201c2-e9bb-4ee2-a6e4-08c0bd1579cc",
   "metadata": {},
   "source": [
    "## Proceso de **L**oad o Carga:"
   ]
  },
  {
   "cell_type": "code",
   "execution_count": null,
   "id": "89d5081f-3de1-4312-997e-d57ee10827cb",
   "metadata": {},
   "outputs": [],
   "source": [
    "#Carga de datos limpios hacia un archivo CSV o base de datos SQLite\n",
    "\n",
    "df.to_csv(\"../data/processed/clean_bitcoin_data.csv\")\n",
    "\n",
    "\n",
    "#Creación de motor y base de datos SQLite llamada db_bitcoin.db\n",
    "engine = create_engine('sqlite:///../data/processed/db_bitcoin.db', echo=False)\n",
    "\n",
    "#Carga a la base de datos SQLite\n",
    "df.to_sql('bitcoin_history', con=engine, if_exists='replace', index=False)\n",
    "print(\"Datos cargados correctamente!\")"
   ]
  },
  {
   "cell_type": "markdown",
   "id": "a6aca2aa-2415-4445-9b75-4e07adc24562",
   "metadata": {},
   "source": [
    "### Lectura rápida de base de datos SQLite y archivo CSV"
   ]
  },
  {
   "cell_type": "code",
   "execution_count": null,
   "id": "48ef4119-ceb0-45e9-b396-5f6c4bbdeecd",
   "metadata": {},
   "outputs": [],
   "source": [
    "df_db = pd.read_sql(\"SELECT * FROM bitcoin_history;\", con=engine)\n",
    "print(\"SQLite: \\n\", df_db)\n",
    "\n",
    "df_csv = pd.read_csv(\"../data/processed/clean_bitcoin_data.csv\")\n",
    "print(\"CSV: \\n\", df_csv)\n"
   ]
  }
 ],
 "metadata": {
  "kernelspec": {
   "display_name": "Python 3 (ipykernel)",
   "language": "python",
   "name": "python3"
  },
  "language_info": {
   "codemirror_mode": {
    "name": "ipython",
    "version": 3
   },
   "file_extension": ".py",
   "mimetype": "text/x-python",
   "name": "python",
   "nbconvert_exporter": "python",
   "pygments_lexer": "ipython3",
   "version": "3.13.5"
  }
 },
 "nbformat": 4,
 "nbformat_minor": 5
}
